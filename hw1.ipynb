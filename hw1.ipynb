{
 "cells": [
  {
   "cell_type": "code",
   "execution_count": 1,
   "id": "5f8f9cb1",
   "metadata": {},
   "outputs": [],
   "source": [
    "import numpy as np"
   ]
  },
  {
   "cell_type": "code",
   "execution_count": 2,
   "id": "c940d3af",
   "metadata": {},
   "outputs": [
    {
     "name": "stdout",
     "output_type": "stream",
     "text": [
      "Bank1 amount=9999.999999999989\n",
      "Bank2 amount=25000.000000000004\n",
      "Bank3 amount=15000.000000000005\n"
     ]
    }
   ],
   "source": [
    "\"\"\"\n",
    "b1 + b2 + b3 = 50000\n",
    "0.05b1 + 0.07b2 = 2250\n",
    "0.05b1 + 0.06b3 = 1400\n",
    "\"\"\"\n",
    "left_part = np.matrix(\"1, 1, 1; 0.05, 0.07, 0; 0.05, 0, 0.06\")\n",
    "right_part = np.matrix(\"50000;2250;1400\")\n",
    "banks = np.linalg.solve(left_part, right_part)\n",
    "bank1, bank2, bank3 = [banks[i, 0] for i in range(3)]\n",
    "print(f\"Bank1 amount={bank1}\\nBank2 amount={bank2}\\nBank3 amount={bank3}\")"
   ]
  },
  {
   "cell_type": "code",
   "execution_count": 3,
   "id": "0a713522",
   "metadata": {},
   "outputs": [
    {
     "name": "stdout",
     "output_type": "stream",
     "text": [
      "Iphone6 quantity=436.0\n",
      "Iphone11 quantity=556.0\n",
      "Iphone12 quantity=336.0\n"
     ]
    }
   ],
   "source": [
    "\"\"\"\n",
    "i6 + i11 + i12 = 1328\n",
    "i6 = i11 - 120\n",
    "i6 = i12 + 100\n",
    "\"\"\"\n",
    "\n",
    "left_part = np.matrix(\"1, 1, 1; 1, -1, 0; 1, 0, -1\")\n",
    "right_part = np.matrix(\"1328;-120;100\")\n",
    "iphones = np.linalg.solve(left_part, right_part)\n",
    "iphone6, iphone11, iphone12 = [iphones[i, 0] for i in range(3)]\n",
    "print(f\"Iphone6 quantity={iphone6}\\nIphone11 quantity={iphone11}\\nIphone12 quantity={iphone12}\")"
   ]
  },
  {
   "cell_type": "code",
   "execution_count": 4,
   "id": "b9f9e01a",
   "metadata": {},
   "outputs": [
    {
     "name": "stdout",
     "output_type": "stream",
     "text": [
      "a^2=12.000000000000004\n",
      "b^2=0.4999999999999999\n",
      "c^2=4.0\n"
     ]
    }
   ],
   "source": [
    "\"\"\"\n",
    "3/a^2 + 3/c^2 = 1\n",
    "6/a^2 + 0.25/b^2 = 1\n",
    "1/a^2 + 0.33/b^2 + 1/c^2 = 1\n",
    "===\n",
    "Приймемо\n",
    "1/a^2 = x,\n",
    "1/b^2 = y,\n",
    "1/c^2 = z,\n",
    "Тоді маємо наступну систему\n",
    "3x + 3z = 1\n",
    "6x + 1/4y = 1\n",
    "x + 1/3y + z = 1 \n",
    "\"\"\"\n",
    "left_part = np.matrix(\"3, 0, 3;6, 0.25, 0;1, 0.333333333333333333, 1\")\n",
    "right_part = np.matrix(\"1;1;1\")\n",
    "xyz = np.linalg.solve(left_part, right_part)\n",
    "x, y, z = [xyz[i, 0] for i in range(3)]\n",
    "a = 1/x\n",
    "b = 1/y\n",
    "c = 1/z\n",
    "print(f\"a^2={a}\\nb^2={b}\\nc^2={c}\")"
   ]
  },
  {
   "cell_type": "code",
   "execution_count": 5,
   "id": "951c44c3",
   "metadata": {},
   "outputs": [
    {
     "name": "stdout",
     "output_type": "stream",
     "text": [
      "a=4.0\n",
      "b=5.0\n",
      "c=3.0\n"
     ]
    }
   ],
   "source": [
    "\"\"\"\n",
    "a + b + c = 12\n",
    "9a + 3b + c = 54\n",
    "a - b + c = 2\n",
    "\"\"\"\n",
    "left_part = np.matrix(\"1, 1, 1;9, 3, 1;1, -1, 1\")\n",
    "right_part = np.matrix(\"12;54;2\")\n",
    "abc = np.linalg.solve(left_part, right_part)\n",
    "a, b, c = [abc[i, 0] for i in range(3)]\n",
    "print(f\"a={a}\\nb={b}\\nc={c}\")"
   ]
  },
  {
   "cell_type": "code",
   "execution_count": 66,
   "id": "7e67b3d5",
   "metadata": {},
   "outputs": [],
   "source": [
    "def get_polynom(coords: list[tuple]):\n",
    "    dimension = len(coords)\n",
    "    a = []\n",
    "    b = []\n",
    "    for item, coord in enumerate(coords):\n",
    "        x, y = coord\n",
    "        zeros = [0] * (dimension - item - 1)\n",
    "        x_coeffs = [*[x ** power for power in range(dimension)]]\n",
    "        y_coeffs = [y]\n",
    "        a.append(x_coeffs)\n",
    "        b.append(y_coeffs)\n",
    "    a = np.array([*a])\n",
    "    b = np.array([*b])\n",
    "    return np.linalg.solve(a, b)"
   ]
  },
  {
   "cell_type": "code",
   "execution_count": 67,
   "id": "ab7f8d98",
   "metadata": {},
   "outputs": [
    {
     "data": {
      "text/plain": [
       "array([[ 1.],\n",
       "       [-1.],\n",
       "       [ 1.]])"
      ]
     },
     "execution_count": 67,
     "metadata": {},
     "output_type": "execute_result"
    }
   ],
   "source": [
    "get_polynom([(0, 1), (1, 1), (2, 3)])"
   ]
  },
  {
   "cell_type": "code",
   "execution_count": 1,
   "id": "4e56dfa2",
   "metadata": {},
   "outputs": [
    {
     "name": "stdout",
     "output_type": "stream",
     "text": [
      "[1, 0, 0]\n",
      "[1, 0, 0]\n"
     ]
    }
   ],
   "source": [
    "\n"
   ]
  }
 ],
 "metadata": {
  "kernelspec": {
   "display_name": "Python 3 (ipykernel)",
   "language": "python",
   "name": "python3"
  },
  "language_info": {
   "codemirror_mode": {
    "name": "ipython",
    "version": 3
   },
   "file_extension": ".py",
   "mimetype": "text/x-python",
   "name": "python",
   "nbconvert_exporter": "python",
   "pygments_lexer": "ipython3",
   "version": "3.9.13"
  }
 },
 "nbformat": 4,
 "nbformat_minor": 5
}
