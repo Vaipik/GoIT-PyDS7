{
 "cells": [
  {
   "cell_type": "markdown",
   "id": "6374b964",
   "metadata": {},
   "source": [
    "У цьому завданні ми маємо побудувати лінійний регресор. На цей раз ми будемо працювати з даними про захворювання діабетом. Аналогічно до завдання 1 виконайте наступні кроки\n",
    "\n",
    "1. Завантажте датасет.\n",
    "2. Розділіть його на тренувальну та тестову вибірки.\n",
    "3. На тренувальній вибірці навчіть лінійну модель.\n",
    "4. Оцініть її якість на тестовій вибірці.\n",
    "5. Спробуйте повторити кроки 1-4 розбивши датасет на навчальну та тестову вибірки в якійсь власній пропорції. Як це позначилося на якості моделі?"
   ]
  },
  {
   "cell_type": "markdown",
   "id": "26cc3ecf",
   "metadata": {},
   "source": [
    "### Завантажте датасет."
   ]
  },
  {
   "cell_type": "code",
   "execution_count": 1,
   "id": "a0828607",
   "metadata": {},
   "outputs": [],
   "source": [
    "from sklearn.datasets import load_diabetes"
   ]
  },
  {
   "cell_type": "code",
   "execution_count": 2,
   "id": "c638f5bf",
   "metadata": {},
   "outputs": [],
   "source": [
    "diabetes_dataset = load_diabetes()\n",
    "X, y = load_diabetes(return_X_y=True, as_frame=True)"
   ]
  },
  {
   "cell_type": "markdown",
   "id": "f65c5733",
   "metadata": {},
   "source": [
    "### Розділіть його на тренувальну та тестову вибірки."
   ]
  },
  {
   "cell_type": "markdown",
   "id": "a904d86b",
   "metadata": {},
   "source": [
    "from sklearn.model_selection import train_test_split\n",
    "from sklearn.linear_model import LinearRegression"
   ]
  },
  {
   "cell_type": "code",
   "execution_count": 6,
   "id": "d80fc68d",
   "metadata": {},
   "outputs": [],
   "source": [
    "X_train, X_test, y_train, y_test = train_test_split(X, y, test_size=0.33, random_state=42)"
   ]
  },
  {
   "cell_type": "code",
   "execution_count": 11,
   "id": "afd6f7f4",
   "metadata": {},
   "outputs": [
    {
     "data": {
      "text/plain": [
       "0.5506386210711344"
      ]
     },
     "execution_count": 11,
     "metadata": {},
     "output_type": "execute_result"
    }
   ],
   "source": [
    "regressor = LinearRegression().fit(X, y)\n",
    "regressor.score(X_test, y_test)"
   ]
  },
  {
   "cell_type": "markdown",
   "id": "fad34dc5",
   "metadata": {},
   "source": [
    "### test_size = 0.5"
   ]
  },
  {
   "cell_type": "code",
   "execution_count": 12,
   "id": "bac4661f",
   "metadata": {},
   "outputs": [
    {
     "data": {
      "text/plain": [
       "0.510807678587666"
      ]
     },
     "execution_count": 12,
     "metadata": {},
     "output_type": "execute_result"
    }
   ],
   "source": [
    "X_train, X_test, y_train, y_test = train_test_split(X, y, test_size=0.5, random_state=42)\n",
    "regressor = LinearRegression().fit(X, y)\n",
    "regressor.score(X_test, y_test)"
   ]
  },
  {
   "cell_type": "markdown",
   "id": "33679397",
   "metadata": {},
   "source": [
    "### test_size = 0.75"
   ]
  },
  {
   "cell_type": "code",
   "execution_count": 13,
   "id": "de451a60",
   "metadata": {},
   "outputs": [
    {
     "data": {
      "text/plain": [
       "0.540735241712005"
      ]
     },
     "execution_count": 13,
     "metadata": {},
     "output_type": "execute_result"
    }
   ],
   "source": [
    "X_train, X_test, y_train, y_test = train_test_split(X, y, test_size=0.75, random_state=42)\n",
    "regressor = LinearRegression().fit(X, y)\n",
    "regressor.score(X_test, y_test)"
   ]
  },
  {
   "cell_type": "markdown",
   "id": "21fcf517",
   "metadata": {},
   "source": [
    "### test_size = 0.5"
   ]
  },
  {
   "cell_type": "code",
   "execution_count": 14,
   "id": "f22db0af",
   "metadata": {},
   "outputs": [
    {
     "data": {
      "text/plain": [
       "0.5306040304317386"
      ]
     },
     "execution_count": 14,
     "metadata": {},
     "output_type": "execute_result"
    }
   ],
   "source": [
    "X_train, X_test, y_train, y_test = train_test_split(X, y, test_size=0.9, random_state=42)\n",
    "regressor = LinearRegression().fit(X, y)\n",
    "regressor.score(X_test, y_test)"
   ]
  },
  {
   "cell_type": "markdown",
   "id": "89dd7df0",
   "metadata": {},
   "source": [
    "### test_size = 0.9"
   ]
  },
  {
   "cell_type": "code",
   "execution_count": 16,
   "id": "0ce24060",
   "metadata": {},
   "outputs": [
    {
     "data": {
      "text/plain": [
       "0.5712367271441743"
      ]
     },
     "execution_count": 16,
     "metadata": {},
     "output_type": "execute_result"
    }
   ],
   "source": [
    "X_train, X_test, y_train, y_test = train_test_split(X, y, test_size=0.1, random_state=42)\n",
    "regressor = LinearRegression().fit(X, y)\n",
    "regressor.score(X_test, y_test)"
   ]
  },
  {
   "cell_type": "markdown",
   "id": "6af244a7",
   "metadata": {},
   "source": [
    "### test_size = 0.1"
   ]
  },
  {
   "cell_type": "markdown",
   "id": "1265cd26",
   "metadata": {},
   "source": [
    "#### При зміні кількості тренувальної вибірки відсоток правильно класифікованих випадків коливається в межах 50-60%."
   ]
  }
 ],
 "metadata": {
  "kernelspec": {
   "display_name": "Python 3 (ipykernel)",
   "language": "python",
   "name": "python3"
  },
  "language_info": {
   "codemirror_mode": {
    "name": "ipython",
    "version": 3
   },
   "file_extension": ".py",
   "mimetype": "text/x-python",
   "name": "python",
   "nbconvert_exporter": "python",
   "pygments_lexer": "ipython3",
   "version": "3.9.13"
  }
 },
 "nbformat": 4,
 "nbformat_minor": 5
}
