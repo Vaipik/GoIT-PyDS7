{
 "cells": [
  {
   "cell_type": "markdown",
   "id": "229f6047",
   "metadata": {},
   "source": [
    "Побудуйте лінійний класифікатор подібно до того, як ми це робили в `завданні 1` на датасеті `Іриса Фішера`. Оформіть рішення у вигляді jupyter ноутбука."
   ]
  },
  {
   "cell_type": "code",
   "execution_count": 2,
   "id": "e371eaef",
   "metadata": {},
   "outputs": [],
   "source": [
    "from sklearn.datasets import load_iris\n",
    "from sklearn.model_selection import train_test_split\n",
    "from sklearn.linear_model import RidgeClassifier"
   ]
  },
  {
   "cell_type": "code",
   "execution_count": 5,
   "id": "998131bf",
   "metadata": {},
   "outputs": [],
   "source": [
    "iris_dataset = load_iris()\n",
    "X, y = load_iris(return_X_y=True)\n",
    "X_train, X_test, y_train, y_test = train_test_split(X, y, test_size=0.33, random_state=42)"
   ]
  },
  {
   "cell_type": "markdown",
   "id": "27dc30b8",
   "metadata": {},
   "source": [
    "## Клас RidgeClassifier"
   ]
  },
  {
   "cell_type": "code",
   "execution_count": 6,
   "id": "8aec1955",
   "metadata": {},
   "outputs": [
    {
     "data": {
      "text/plain": [
       "0.8"
      ]
     },
     "execution_count": 6,
     "metadata": {},
     "output_type": "execute_result"
    }
   ],
   "source": [
    "ridge_classifier = RidgeClassifier(random_state=42).fit(X_train, y_train)\n",
    "ridge_classifier.score(X_test, y_test)"
   ]
  },
  {
   "cell_type": "markdown",
   "id": "9af7d49a",
   "metadata": {},
   "source": [
    "### test_size = 0.5"
   ]
  },
  {
   "cell_type": "code",
   "execution_count": 7,
   "id": "c128ce90",
   "metadata": {},
   "outputs": [
    {
     "data": {
      "text/plain": [
       "0.8533333333333334"
      ]
     },
     "execution_count": 7,
     "metadata": {},
     "output_type": "execute_result"
    }
   ],
   "source": [
    "X_train, X_test, y_train, y_test = train_test_split(X, y, test_size=0.5, random_state=42)\n",
    "ridge_classifier = RidgeClassifier(random_state=42).fit(X_train, y_train)\n",
    "ridge_classifier.score(X_test, y_test)"
   ]
  },
  {
   "cell_type": "markdown",
   "id": "6b9b4d5f",
   "metadata": {},
   "source": [
    "### test_size = 0.75"
   ]
  },
  {
   "cell_type": "code",
   "execution_count": 8,
   "id": "3ddec844",
   "metadata": {},
   "outputs": [
    {
     "data": {
      "text/plain": [
       "0.831858407079646"
      ]
     },
     "execution_count": 8,
     "metadata": {},
     "output_type": "execute_result"
    }
   ],
   "source": [
    "X_train, X_test, y_train, y_test = train_test_split(X, y, test_size=0.75, random_state=42)\n",
    "ridge_classifier = RidgeClassifier(random_state=42).fit(X_train, y_train)\n",
    "ridge_classifier.score(X_test, y_test)"
   ]
  },
  {
   "cell_type": "markdown",
   "id": "95ad5ab9",
   "metadata": {},
   "source": [
    "### test_size = 0.9"
   ]
  },
  {
   "cell_type": "code",
   "execution_count": 9,
   "id": "2d318b3b",
   "metadata": {},
   "outputs": [
    {
     "data": {
      "text/plain": [
       "0.837037037037037"
      ]
     },
     "execution_count": 9,
     "metadata": {},
     "output_type": "execute_result"
    }
   ],
   "source": [
    "X_train, X_test, y_train, y_test = train_test_split(X, y, test_size=0.9, random_state=42)\n",
    "ridge_classifier = RidgeClassifier(random_state=42).fit(X_train, y_train)\n",
    "ridge_classifier.score(X_test, y_test)"
   ]
  },
  {
   "cell_type": "markdown",
   "id": "8d69277c",
   "metadata": {},
   "source": [
    "### test_size = 0.1"
   ]
  },
  {
   "cell_type": "code",
   "execution_count": 18,
   "id": "fb7da9c1",
   "metadata": {},
   "outputs": [
    {
     "data": {
      "text/plain": [
       "0.9"
      ]
     },
     "execution_count": 18,
     "metadata": {},
     "output_type": "execute_result"
    }
   ],
   "source": [
    "X_train, X_test, y_train, y_test = train_test_split(X, y, test_size=0.2, random_state=42)\n",
    "ridge_classifier = RidgeClassifier(random_state=42).fit(X_train, y_train)\n",
    "ridge_classifier.score(X_test, y_test)"
   ]
  },
  {
   "cell_type": "markdown",
   "id": "de93fd25",
   "metadata": {},
   "source": [
    "#### При зменшенні кількості тренувальної вибірки відсоток правильно класифікованих випадків збільшується до певної межі. Залежність нелінійна"
   ]
  }
 ],
 "metadata": {
  "kernelspec": {
   "display_name": "Python 3 (ipykernel)",
   "language": "python",
   "name": "python3"
  },
  "language_info": {
   "codemirror_mode": {
    "name": "ipython",
    "version": 3
   },
   "file_extension": ".py",
   "mimetype": "text/x-python",
   "name": "python",
   "nbconvert_exporter": "python",
   "pygments_lexer": "ipython3",
   "version": "3.9.13"
  }
 },
 "nbformat": 4,
 "nbformat_minor": 5
}
