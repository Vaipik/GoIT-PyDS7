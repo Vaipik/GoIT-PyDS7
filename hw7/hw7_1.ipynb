{
 "cells": [
  {
   "cell_type": "markdown",
   "id": "9b40fc41",
   "metadata": {},
   "source": [
    "Ми колись вже спостерігали деякі \"іграшкові\" датасети, які доступні в бібліотеці sklearn. Спробуємо створити лінійну модель для одного такого датасету. Нас же цікавитиме \"винний\" датасет\n",
    "\n",
    "Завантажте датасет, виконавши наступний код\n",
    "```python\n",
    "from sklearn.datasets import load_wine\n",
    "wine_dataset = load_wine()\n",
    "```\n",
    "\n",
    "Вивчіть документацію функції `train_test_split`. З її допомогою датасет можна розділити на тренувальну та тестову вибірки. Перша потрібна для навчання моделі, а друга - для оцінки якості моделі."
   ]
  },
  {
   "cell_type": "code",
   "execution_count": 3,
   "id": "511735a1",
   "metadata": {},
   "outputs": [],
   "source": [
    "from sklearn.datasets import load_wine\n",
    "from sklearn.model_selection import train_test_split\n",
    "from sklearn.linear_model import RidgeClassifier\n",
    "\n"
   ]
  },
  {
   "cell_type": "markdown",
   "id": "04ca9869",
   "metadata": {},
   "source": [
    "Розділіть `wine_dataset` на навчальну та тестову вибірки."
   ]
  },
  {
   "cell_type": "code",
   "execution_count": 26,
   "id": "ada360a8",
   "metadata": {},
   "outputs": [],
   "source": [
    "wine_dataset = load_wine()\n",
    "X, y = load_wine(return_X_y=True)\n",
    "X_train, X_test, y_train, y_test = train_test_split(X, y, test_size=0.33, random_state=42)"
   ]
  },
  {
   "cell_type": "markdown",
   "id": "de9d5746",
   "metadata": {},
   "source": [
    "## Клас RidgeClassifier"
   ]
  },
  {
   "cell_type": "code",
   "execution_count": 27,
   "id": "c477bb61",
   "metadata": {},
   "outputs": [
    {
     "data": {
      "text/plain": [
       "0.9830508474576272"
      ]
     },
     "execution_count": 27,
     "metadata": {},
     "output_type": "execute_result"
    }
   ],
   "source": [
    "ridge_classifier = RidgeClassifier(random_state=42).fit(X_train, y_train)\n",
    "ridge_classifier.score(X_test, y_test)"
   ]
  },
  {
   "cell_type": "markdown",
   "id": "23ea2149",
   "metadata": {},
   "source": [
    "### test_size = 0.5"
   ]
  },
  {
   "cell_type": "code",
   "execution_count": 28,
   "id": "2c652976",
   "metadata": {},
   "outputs": [
    {
     "data": {
      "text/plain": [
       "0.9775280898876404"
      ]
     },
     "execution_count": 28,
     "metadata": {},
     "output_type": "execute_result"
    }
   ],
   "source": [
    "X_train, X_test, y_train, y_test = train_test_split(X, y, test_size=0.5, random_state=42)\n",
    "ridge_classifier = RidgeClassifier(random_state=42).fit(X_train, y_train)\n",
    "ridge_classifier.score(X_test, y_test)"
   ]
  },
  {
   "cell_type": "markdown",
   "id": "9c0306ce",
   "metadata": {},
   "source": [
    "### test_size = 0.75"
   ]
  },
  {
   "cell_type": "code",
   "execution_count": 29,
   "id": "65ebaae8",
   "metadata": {},
   "outputs": [
    {
     "data": {
      "text/plain": [
       "0.9328358208955224"
      ]
     },
     "execution_count": 29,
     "metadata": {},
     "output_type": "execute_result"
    }
   ],
   "source": [
    "X_train, X_test, y_train, y_test = train_test_split(X, y, test_size=0.75, random_state=42)\n",
    "ridge_classifier = RidgeClassifier(random_state=42).fit(X_train, y_train)\n",
    "ridge_classifier.score(X_test, y_test)"
   ]
  },
  {
   "cell_type": "markdown",
   "id": "050ca14e",
   "metadata": {},
   "source": [
    "### test_size = 0.9"
   ]
  },
  {
   "cell_type": "code",
   "execution_count": 30,
   "id": "8967f56c",
   "metadata": {},
   "outputs": [
    {
     "data": {
      "text/plain": [
       "0.8757763975155279"
      ]
     },
     "execution_count": 30,
     "metadata": {},
     "output_type": "execute_result"
    }
   ],
   "source": [
    "X_train, X_test, y_train, y_test = train_test_split(X, y, test_size=0.9, random_state=42)\n",
    "ridge_classifier = RidgeClassifier(random_state=42).fit(X_train, y_train)\n",
    "ridge_classifier.score(X_test, y_test)"
   ]
  },
  {
   "cell_type": "raw",
   "id": "21aa0407",
   "metadata": {},
   "source": [
    "### test_size = 0.1"
   ]
  },
  {
   "cell_type": "code",
   "execution_count": 24,
   "id": "b140ef12",
   "metadata": {},
   "outputs": [
    {
     "data": {
      "text/plain": [
       "1.0"
      ]
     },
     "execution_count": 24,
     "metadata": {},
     "output_type": "execute_result"
    }
   ],
   "source": [
    "X_train, X_test, y_train, y_test = train_test_split(X, y, test_size=0.2, random_state=42)\n",
    "ridge_classifier = RidgeClassifier(random_state=42).fit(X_train, y_train)\n",
    "ridge_classifier.score(X_test, y_test)"
   ]
  },
  {
   "cell_type": "markdown",
   "id": "11d35818",
   "metadata": {},
   "source": [
    "#### При зменшенні кількості тренувальної вибірки зменшується відсоток правильно класифікованих випадків"
   ]
  }
 ],
 "metadata": {
  "kernelspec": {
   "display_name": "Python 3 (ipykernel)",
   "language": "python",
   "name": "python3"
  },
  "language_info": {
   "codemirror_mode": {
    "name": "ipython",
    "version": 3
   },
   "file_extension": ".py",
   "mimetype": "text/x-python",
   "name": "python",
   "nbconvert_exporter": "python",
   "pygments_lexer": "ipython3",
   "version": "3.9.13"
  }
 },
 "nbformat": 4,
 "nbformat_minor": 5
}
