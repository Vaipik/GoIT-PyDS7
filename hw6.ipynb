{
  "nbformat": 4,
  "nbformat_minor": 0,
  "metadata": {
    "colab": {
      "provenance": [],
      "mount_file_id": "1lNz5ZDJ43UQtkr8OuSfcrqGyu9Wlm4iW",
      "authorship_tag": "ABX9TyMdG3hzreZHOKroCxoo4K0p",
      "include_colab_link": true
    },
    "kernelspec": {
      "name": "python3",
      "display_name": "Python 3"
    },
    "language_info": {
      "name": "python"
    }
  },
  "cells": [
    {
      "cell_type": "markdown",
      "metadata": {
        "id": "view-in-github",
        "colab_type": "text"
      },
      "source": [
        "<a href=\"https://colab.research.google.com/github/Vaipik/GoIT-PyDS7/blob/main/hw6.ipynb\" target=\"_parent\"><img src=\"https://colab.research.google.com/assets/colab-badge.svg\" alt=\"Open In Colab\"/></a>"
      ]
    },
    {
      "cell_type": "code",
      "execution_count": 1,
      "metadata": {
        "colab": {
          "base_uri": "https://localhost:8080/"
        },
        "id": "RrZDW7hEVvWZ",
        "outputId": "060266c1-97b9-4171-f617-dd08be741432"
      },
      "outputs": [
        {
          "output_type": "stream",
          "name": "stdout",
          "text": [
            "Looking in indexes: https://pypi.org/simple, https://us-python.pkg.dev/colab-wheels/public/simple/\n",
            "Collecting pyspark\n",
            "  Downloading pyspark-3.4.0.tar.gz (310.8 MB)\n",
            "\u001b[2K     \u001b[90m━━━━━━━━━━━━━━━━━━━━━━━━━━━━━━━━━━━━━━━\u001b[0m \u001b[32m310.8/310.8 MB\u001b[0m \u001b[31m2.6 MB/s\u001b[0m eta \u001b[36m0:00:00\u001b[0m\n",
            "\u001b[?25h  Preparing metadata (setup.py) ... \u001b[?25l\u001b[?25hdone\n",
            "Requirement already satisfied: py4j==0.10.9.7 in /usr/local/lib/python3.10/dist-packages (from pyspark) (0.10.9.7)\n",
            "Building wheels for collected packages: pyspark\n",
            "  Building wheel for pyspark (setup.py) ... \u001b[?25l\u001b[?25hdone\n",
            "  Created wheel for pyspark: filename=pyspark-3.4.0-py2.py3-none-any.whl size=311317130 sha256=7f7332d2f1a8c8d28a8cb6119eec89b8e42a5ee5857c88798dbe2b45485ed150\n",
            "  Stored in directory: /root/.cache/pip/wheels/7b/1b/4b/3363a1d04368e7ff0d408e57ff57966fcdf00583774e761327\n",
            "Successfully built pyspark\n",
            "Installing collected packages: pyspark\n",
            "Successfully installed pyspark-3.4.0\n",
            "Looking in indexes: https://pypi.org/simple, https://us-python.pkg.dev/colab-wheels/public/simple/\n",
            "Requirement already satisfied: pyarrow in /usr/local/lib/python3.10/dist-packages (9.0.0)\n",
            "Requirement already satisfied: numpy>=1.16.6 in /usr/local/lib/python3.10/dist-packages (from pyarrow) (1.22.4)\n"
          ]
        }
      ],
      "source": [
        "!pip install pyspark\n",
        "!pip install pyarrow"
      ]
    },
    {
      "cell_type": "code",
      "source": [
        "from google.colab import drive\n",
        "drive.mount(\"/content/drive\")"
      ],
      "metadata": {
        "colab": {
          "base_uri": "https://localhost:8080/"
        },
        "id": "x7MMHtwNWs9M",
        "outputId": "2547a9a8-d31d-4158-aa0b-6d39b764ab99"
      },
      "execution_count": 2,
      "outputs": [
        {
          "output_type": "stream",
          "name": "stdout",
          "text": [
            "Drive already mounted at /content/drive; to attempt to forcibly remount, call drive.mount(\"/content/drive\", force_remount=True).\n"
          ]
        }
      ]
    },
    {
      "cell_type": "markdown",
      "source": [
        "# Завдання 1"
      ],
      "metadata": {
        "id": "bLJuqz-GYrO5"
      }
    },
    {
      "cell_type": "markdown",
      "source": [
        "Створити спарк сесію."
      ],
      "metadata": {
        "id": "GWAtVSuSYzrK"
      }
    },
    {
      "cell_type": "code",
      "source": [
        "import pyspark\n",
        "import os\n",
        "os.environ[\"PYARROW_IGNORE_TIMEZONE\"] = \"1\" # без этой строчки у нас будет возникать постоянное предупреждение с просьбой установить эту переменную в значение 1, что мы заранее и делаем\n",
        "\n",
        "spark = pyspark.sql.SparkSession.builder.getOrCreate()"
      ],
      "metadata": {
        "id": "STmhXsFMW-Nc"
      },
      "execution_count": 3,
      "outputs": []
    },
    {
      "cell_type": "markdown",
      "source": [
        "Прочитати датасет в датафрейм."
      ],
      "metadata": {
        "id": "GWhqm51cY2rc"
      }
    },
    {
      "cell_type": "code",
      "source": [
        "df = spark.read.csv('/content/drive/MyDrive/Colab Notebooks/bestsellers with categories.csv', header=True, inferSchema=True)\n",
        "\n",
        "df"
      ],
      "metadata": {
        "colab": {
          "base_uri": "https://localhost:8080/"
        },
        "id": "R4jQixooW-QT",
        "outputId": "753f4774-c710-415d-ad96-b70fd75c6ef9"
      },
      "execution_count": 88,
      "outputs": [
        {
          "output_type": "execute_result",
          "data": {
            "text/plain": [
              "DataFrame[Name: string, Author: string, User Rating: double, Reviews: int, Price: int, Year: int, Genre: string]"
            ]
          },
          "metadata": {},
          "execution_count": 88
        }
      ]
    },
    {
      "cell_type": "markdown",
      "source": [
        "Використовуючи тільки RDD, обчислити середню ціну всіх книг, у яких рейтинг вищий за 4.7"
      ],
      "metadata": {
        "id": "KnLUQDq3Y7Df"
      }
    },
    {
      "cell_type": "code",
      "source": [
        "filtered = df.rdd.filter(lambda x: x[\"User Rating\"] > 4.7)\n",
        "\n",
        "amount = filtered.count()\n",
        "sum_ = 0\n",
        "for k in filtered.collect():\n",
        "  sum_ += k[\"Price\"]\n",
        "\n",
        "print(f\"Average books price: {sum_/amount:.2f}\")"
      ],
      "metadata": {
        "colab": {
          "base_uri": "https://localhost:8080/"
        },
        "id": "xfRrx91VW-T0",
        "outputId": "e38c45a7-2a88-4541-cae7-83e19b73f638"
      },
      "execution_count": 64,
      "outputs": [
        {
          "output_type": "execute_result",
          "data": {
            "text/plain": [
              "MapPartitionsRDD[134] at javaToPython at NativeMethodAccessorImpl.java:0"
            ]
          },
          "metadata": {},
          "execution_count": 64
        }
      ]
    },
    {
      "cell_type": "markdown",
      "source": [
        "Побудувати гістограму розподілу рецензій (стовпчик Reviews)."
      ],
      "metadata": {
        "id": "BcYeg7iMQTAd"
      }
    },
    {
      "cell_type": "code",
      "source": [
        "pd_df = df.toPandas()\n",
        "pd_df.Price.plot(kind=\"hist\")"
      ],
      "metadata": {
        "colab": {
          "base_uri": "https://localhost:8080/",
          "height": 447
        },
        "id": "xuj3YFUQQTcZ",
        "outputId": "58c5ee3e-fed9-4848-d03f-f12ef6eb1cb9"
      },
      "execution_count": 67,
      "outputs": [
        {
          "output_type": "execute_result",
          "data": {
            "text/plain": [
              "<Axes: ylabel='Frequency'>"
            ]
          },
          "metadata": {},
          "execution_count": 67
        },
        {
          "output_type": "display_data",
          "data": {
            "text/plain": [
              "<Figure size 640x480 with 1 Axes>"
            ],
            "image/png": "[encoded data removed]"
          },
          "metadata": {}
        }
      ]
    },
    {
      "cell_type": "markdown",
      "source": [
        "Побудувати матрицю кореляції для стовпців \"User Rating\", \"Reviews\" та \"Price\"."
      ],
      "metadata": {
        "id": "6A1hzqxHQTHR"
      }
    },
    {
      "cell_type": "code",
      "source": [
        "mtrx = pd_df.corr(numeric_only=True).loc[[\"User Rating\", \"Reviews\", \"Price\"], [\"User Rating\", \"Reviews\", \"Price\"]]\n",
        "mtrx"
      ],
      "metadata": {
        "colab": {
          "base_uri": "https://localhost:8080/",
          "height": 143
        },
        "id": "UJLUtQfJQTeS",
        "outputId": "933aa4b1-a4aa-4577-f9bd-055f21945080"
      },
      "execution_count": 80,
      "outputs": [
        {
          "output_type": "execute_result",
          "data": {
            "text/plain": [
              "             User Rating   Reviews     Price\n",
              "User Rating     1.000000 -0.001729 -0.133086\n",
              "Reviews        -0.001729  1.000000 -0.109182\n",
              "Price          -0.133086 -0.109182  1.000000"
            ],
            "text/html": [
              "\n",
              "  <div id=\"df-a3b442b2-3d97-4760-ba30-e0c1c5bd6d21\">\n",
              "    <div class=\"colab-df-container\">\n",
              "      <div>\n",
              "<style scoped>\n",
              "    .dataframe tbody tr th:only-of-type {\n",
              "        vertical-align: middle;\n",
              "    }\n",
              "\n",
              "    .dataframe tbody tr th {\n",
              "        vertical-align: top;\n",
              "    }\n",
              "\n",
              "    .dataframe thead th {\n",
              "        text-align: right;\n",
              "    }\n",
              "</style>\n",
              "<table border=\"1\" class=\"dataframe\">\n",
              "  <thead>\n",
              "    <tr style=\"text-align: right;\">\n",
              "      <th></th>\n",
              "      <th>User Rating</th>\n",
              "      <th>Reviews</th>\n",
              "      <th>Price</th>\n",
              "    </tr>\n",
              "  </thead>\n",
              "  <tbody>\n",
              "    <tr>\n",
              "      <th>User Rating</th>\n",
              "      <td>1.000000</td>\n",
              "      <td>-0.001729</td>\n",
              "      <td>-0.133086</td>\n",
              "    </tr>\n",
              "    <tr>\n",
              "      <th>Reviews</th>\n",
              "      <td>-0.001729</td>\n",
              "      <td>1.000000</td>\n",
              "      <td>-0.109182</td>\n",
              "    </tr>\n",
              "    <tr>\n",
              "      <th>Price</th>\n",
              "      <td>-0.133086</td>\n",
              "      <td>-0.109182</td>\n",
              "      <td>1.000000</td>\n",
              "    </tr>\n",
              "  </tbody>\n",
              "</table>\n",
              "</div>\n",
              "      <button class=\"colab-df-convert\" onclick=\"convertToInteractive('df-a3b442b2-3d97-4760-ba30-e0c1c5bd6d21')\"\n",
              "              title=\"Convert this dataframe to an interactive table.\"\n",
              "              style=\"display:none;\">\n",
              "        \n",
              "  <svg xmlns=\"http://www.w3.org/2000/svg\" height=\"24px\"viewBox=\"0 0 24 24\"\n",
              "       width=\"24px\">\n",
              "    <path d=\"M0 0h24v24H0V0z\" fill=\"none\"/>\n",
              "    <path d=\"M18.56 5.44l.94 2.06.94-2.06 2.06-.94-2.06-.94-.94-2.06-.94 2.06-2.06.94zm-11 1L8.5 8.5l.94-2.06 2.06-.94-2.06-.94L8.5 2.5l-.94 2.06-2.06.94zm10 10l.94 2.06.94-2.06 2.06-.94-2.06-.94-.94-2.06-.94 2.06-2.06.94z\"/><path d=\"M17.41 7.96l-1.37-1.37c-.4-.4-.92-.59-1.43-.59-.52 0-1.04.2-1.43.59L10.3 9.45l-7.72 7.72c-.78.78-.78 2.05 0 2.83L4 21.41c.39.39.9.59 1.41.59.51 0 1.02-.2 1.41-.59l7.78-7.78 2.81-2.81c.8-.78.8-2.07 0-2.86zM5.41 20L4 18.59l7.72-7.72 1.47 1.35L5.41 20z\"/>\n",
              "  </svg>\n",
              "      </button>\n",
              "      \n",
              "  <style>\n",
              "    .colab-df-container {\n",
              "      display:flex;\n",
              "      flex-wrap:wrap;\n",
              "      gap: 12px;\n",
              "    }\n",
              "\n",
              "    .colab-df-convert {\n",
              "      background-color: #E8F0FE;\n",
              "      border: none;\n",
              "      border-radius: 50%;\n",
              "      cursor: pointer;\n",
              "      display: none;\n",
              "      fill: #1967D2;\n",
              "      height: 32px;\n",
              "      padding: 0 0 0 0;\n",
              "      width: 32px;\n",
              "    }\n",
              "\n",
              "    .colab-df-convert:hover {\n",
              "      background-color: #E2EBFA;\n",
              "      box-shadow: 0px 1px 2px rgba(60, 64, 67, 0.3), 0px 1px 3px 1px rgba(60, 64, 67, 0.15);\n",
              "      fill: #174EA6;\n",
              "    }\n",
              "\n",
              "    [theme=dark] .colab-df-convert {\n",
              "      background-color: #3B4455;\n",
              "      fill: #D2E3FC;\n",
              "    }\n",
              "\n",
              "    [theme=dark] .colab-df-convert:hover {\n",
              "      background-color: #434B5C;\n",
              "      box-shadow: 0px 1px 3px 1px rgba(0, 0, 0, 0.15);\n",
              "      filter: drop-shadow(0px 1px 2px rgba(0, 0, 0, 0.3));\n",
              "      fill: #FFFFFF;\n",
              "    }\n",
              "  </style>\n",
              "\n",
              "      <script>\n",
              "        const buttonEl =\n",
              "          document.querySelector('#df-a3b442b2-3d97-4760-ba30-e0c1c5bd6d21 button.colab-df-convert');\n",
              "        buttonEl.style.display =\n",
              "          google.colab.kernel.accessAllowed ? 'block' : 'none';\n",
              "\n",
              "        async function convertToInteractive(key) {\n",
              "          const element = document.querySelector('#df-a3b442b2-3d97-4760-ba30-e0c1c5bd6d21');\n",
              "          const dataTable =\n",
              "            await google.colab.kernel.invokeFunction('convertToInteractive',\n",
              "                                                     [key], {});\n",
              "          if (!dataTable) return;\n",
              "\n",
              "          const docLinkHtml = 'Like what you see? Visit the ' +\n",
              "            '<a target=\"_blank\" href=https://colab.research.google.com/notebooks/data_table.ipynb>data table notebook</a>'\n",
              "            + ' to learn more about interactive tables.';\n",
              "          element.innerHTML = '';\n",
              "          dataTable['output_type'] = 'display_data';\n",
              "          await google.colab.output.renderOutput(dataTable, element);\n",
              "          const docLink = document.createElement('div');\n",
              "          docLink.innerHTML = docLinkHtml;\n",
              "          element.appendChild(docLink);\n",
              "        }\n",
              "      </script>\n",
              "    </div>\n",
              "  </div>\n",
              "  "
            ]
          },
          "metadata": {},
          "execution_count": 80
        }
      ]
    },
    {
      "cell_type": "markdown",
      "source": [
        "Використовуючи бібліотеку seaborn, побудувати парні графіки (pairplots) стовпців \"User Rating\", \"Reviews\" та \"Price\"."
      ],
      "metadata": {
        "id": "SSoSvb2Zj_15"
      }
    },
    {
      "cell_type": "code",
      "source": [
        "import seaborn as sns"
      ],
      "metadata": {
        "id": "u78xO_D1jVwJ"
      },
      "execution_count": 81,
      "outputs": []
    },
    {
      "cell_type": "code",
      "source": [
        "sns.pairplot(mtrx, kind=\"scatter\")"
      ],
      "metadata": {
        "colab": {
          "base_uri": "https://localhost:8080/",
          "height": 775
        },
        "id": "VumUJbbfQTgv",
        "outputId": "e57a270a-847d-4cf0-d35b-ebaf4d90f93b"
      },
      "execution_count": 87,
      "outputs": [
        {
          "output_type": "execute_result",
          "data": {
            "text/plain": [
              "<seaborn.axisgrid.PairGrid at 0x7f3f9b06ff40>"
            ]
          },
          "metadata": {},
          "execution_count": 87
        },
        {
          "output_type": "display_data",
          "data": {
            "text/plain": [
              "<Figure size 750x750 with 12 Axes>"
            ],
            "image/png": "[encoded data removed]"
          },
          "metadata": {}
        }
      ]
    },
    {
      "cell_type": "markdown",
      "source": [
        "# Завдання 2#\n",
        "\n",
        "Під час виконання цього завдання дозволяється використовувати лише Spark SQL. Для датасету з попереднього завдання виконайте наступне:"
      ],
      "metadata": {
        "id": "c375AU0flQAC"
      }
    },
    {
      "cell_type": "code",
      "source": [
        "df.show()"
      ],
      "metadata": {
        "colab": {
          "base_uri": "https://localhost:8080/"
        },
        "id": "8Tbg4HpalVQ-",
        "outputId": "4c0a93ab-3a27-419b-971c-927fc71e3a53"
      },
      "execution_count": 101,
      "outputs": [
        {
          "output_type": "stream",
          "name": "stdout",
          "text": [
            "+--------------------+--------------------+-----------+-------+-----+----+-----------+\n",
            "|                Name|              Author|User Rating|Reviews|Price|Year|      Genre|\n",
            "+--------------------+--------------------+-----------+-------+-----+----+-----------+\n",
            "|10-Day Green Smoo...|            JJ Smith|        4.7|  17350|    8|2016|Non Fiction|\n",
            "|   11/22/63: A Novel|        Stephen King|        4.6|   2052|   22|2011|    Fiction|\n",
            "|12 Rules for Life...|  Jordan B. Peterson|        4.7|  18979|   15|2018|Non Fiction|\n",
            "|1984 (Signet Clas...|       George Orwell|        4.7|  21424|    6|2017|    Fiction|\n",
            "|5,000 Awesome Fac...|National Geograph...|        4.8|   7665|   12|2019|Non Fiction|\n",
            "|A Dance with Drag...| George R. R. Martin|        4.4|  12643|   11|2011|    Fiction|\n",
            "|A Game of Thrones...| George R. R. Martin|        4.7|  19735|   30|2014|    Fiction|\n",
            "|A Gentleman in Mo...|         Amor Towles|        4.7|  19699|   15|2017|    Fiction|\n",
            "|A Higher Loyalty:...|         James Comey|        4.7|   5983|    3|2018|Non Fiction|\n",
            "|A Man Called Ove:...|     Fredrik Backman|        4.6|  23848|    8|2016|    Fiction|\n",
            "|A Man Called Ove:...|     Fredrik Backman|        4.6|  23848|    8|2017|    Fiction|\n",
            "|A Patriot's Histo...|    Larry Schweikart|        4.6|    460|    2|2010|Non Fiction|\n",
            "|A Stolen Life: A ...|       Jaycee Dugard|        4.6|   4149|   32|2011|Non Fiction|\n",
            "|A Wrinkle in Time...|   Madeleine L'Engle|        4.5|   5153|    5|2018|    Fiction|\n",
            "|Act Like a Lady, ...|        Steve Harvey|        4.6|   5013|   17|2009|Non Fiction|\n",
            "|Adult Coloring Bo...|Adult Coloring Bo...|        4.5|   2313|    4|2016|Non Fiction|\n",
            "|Adult Coloring Bo...|  Blue Star Coloring|        4.6|   2925|    6|2015|Non Fiction|\n",
            "|Adult Coloring Bo...|  Blue Star Coloring|        4.4|   2951|    6|2015|Non Fiction|\n",
            "|Adult Coloring Bo...|Coloring Books fo...|        4.5|   2426|    8|2015|Non Fiction|\n",
            "|  Alexander Hamilton|         Ron Chernow|        4.8|   9198|   13|2016|Non Fiction|\n",
            "+--------------------+--------------------+-----------+-------+-----+----+-----------+\n",
            "only showing top 20 rows\n",
            "\n"
          ]
        }
      ]
    },
    {
      "cell_type": "markdown",
      "source": [
        "Знайдіть автора з найвищим рейтингом."
      ],
      "metadata": {
        "id": "WIK9w5GXl5MP"
      }
    },
    {
      "cell_type": "code",
      "source": [
        "\"\"\"\n",
        "SELECT Author FROM df\n",
        "ORDER_BY User Rating DESC\n",
        "LIMIT 1;\n",
        "\n",
        "SELECT Author from df\n",
        "WHERE user rating = SELECT(MAX(User Rating from df))\n",
        "\n",
        "\"\"\"\n",
        "from pyspark.sql.functions import desc\n",
        "df.select(\"Author\", \"User Rating\").orderBy(desc(\"User Rating\")).limit(1).show()"
      ],
      "metadata": {
        "colab": {
          "base_uri": "https://localhost:8080/"
        },
        "id": "3FDoY0TGl4PY",
        "outputId": "368c9a49-727d-431a-af55-6574efbbfcaa"
      },
      "execution_count": 111,
      "outputs": [
        {
          "output_type": "stream",
          "name": "stdout",
          "text": [
            "+---------------+-----------+\n",
            "|         Author|User Rating|\n",
            "+---------------+-----------+\n",
            "|Bill Martin Jr.|        4.9|\n",
            "+---------------+-----------+\n",
            "\n"
          ]
        }
      ]
    },
    {
      "cell_type": "markdown",
      "source": [
        "Знайдіть трьох авторів із найнижчим рейтингом."
      ],
      "metadata": {
        "id": "0aGdOI1LpPsL"
      }
    },
    {
      "cell_type": "code",
      "source": [
        "\"\"\"\n",
        "SELECT Author, User Rating FROM df\n",
        "ORDER_BY User Rating ASC;\n",
        "LIMIT 3;\n",
        "\"\"\"\n",
        "from pyspark.sql.functions import asc\n",
        "df.select(\"Author\", \"User Rating\").orderBy(asc(\"User Rating\")).limit(3).show()"
      ],
      "metadata": {
        "colab": {
          "base_uri": "https://localhost:8080/"
        },
        "id": "iVaZQf6rpQc6",
        "outputId": "2327193a-12c0-45c0-aa28-852602d4e85e"
      },
      "execution_count": 147,
      "outputs": [
        {
          "output_type": "stream",
          "name": "stdout",
          "text": [
            "+------------+-----------+\n",
            "|      Author|User Rating|\n",
            "+------------+-----------+\n",
            "|J.K. Rowling|        3.3|\n",
            "|  Harper Lee|        3.6|\n",
            "|   E L James|        3.8|\n",
            "+------------+-----------+\n",
            "\n"
          ]
        }
      ]
    },
    {
      "cell_type": "markdown",
      "source": [
        "Визначте, який автор отримав найбільшу кількість рецензій."
      ],
      "metadata": {
        "id": "L3hjccFKpag2"
      }
    },
    {
      "cell_type": "code",
      "source": [
        "\"\"\"\n",
        "SELECT Author, User Rating FROM df\n",
        "ORDER_BY User Rating DESC;\n",
        "LIMIT 1;\n",
        "\"\"\"\n",
        "df.select(\"Author\", \"Reviews\").orderBy(desc(\"Reviews\")).limit(1).show()"
      ],
      "metadata": {
        "colab": {
          "base_uri": "https://localhost:8080/"
        },
        "id": "ju9Ap3iBpbd-",
        "outputId": "dd1b9212-0f96-4e17-9b22-19da9978ba7b"
      },
      "execution_count": 109,
      "outputs": [
        {
          "output_type": "stream",
          "name": "stdout",
          "text": [
            "+-----------+-------+\n",
            "|     Author|Reviews|\n",
            "+-----------+-------+\n",
            "|Delia Owens|  87841|\n",
            "+-----------+-------+\n",
            "\n"
          ]
        }
      ]
    },
    {
      "cell_type": "markdown",
      "source": [
        "Визначте, який автор написав найбільшу кількість книг за весь доступний у даних період."
      ],
      "metadata": {
        "id": "vbgrfuimpdSc"
      }
    },
    {
      "cell_type": "code",
      "source": [
        "\"\"\"\n",
        "SELECT Author, COUNT(Name) as total_books FROM df\n",
        "GROUP BY Author\n",
        "ORDER BY total_books DESC\n",
        "LIMIT 1;\n",
        "\"\"\"\n",
        "from pyspark.sql.functions import count\n",
        "df.groupBy(\"Author\").count().limit(1).show()"
      ],
      "metadata": {
        "colab": {
          "base_uri": "https://localhost:8080/"
        },
        "id": "sCzDBh1Jpe0-",
        "outputId": "dfdbe8a8-5a7e-498d-83d9-49e548f2b0de"
      },
      "execution_count": 121,
      "outputs": [
        {
          "output_type": "stream",
          "name": "stdout",
          "text": [
            "+-----------+-----+\n",
            "|     Author|count|\n",
            "+-----------+-----+\n",
            "|Sarah Young|    6|\n",
            "+-----------+-----+\n",
            "\n"
          ]
        }
      ]
    },
    {
      "cell_type": "markdown",
      "source": [
        "Визначте, яка книга жанру \"Fiction\" має найменший рейтинг."
      ],
      "metadata": {
        "id": "WJvnT_uNpfOI"
      }
    },
    {
      "cell_type": "code",
      "source": [
        "\"\"\"\n",
        "SELECT Name, Author, User Rating, Genre FROM df\n",
        "WHERE GENRE = Fiction\n",
        "ORDER_BY User Rating ASC\n",
        "LIMIT 1;\n",
        "\"\"\"\n",
        "df.select(\"Name\", \"Author\", \"User Rating\", \"Genre\").where(df.Genre == \"Fiction\").orderBy(asc(\"User Rating\")).limit(1).show()"
      ],
      "metadata": {
        "colab": {
          "base_uri": "https://localhost:8080/"
        },
        "id": "5epuQo_Qpg73",
        "outputId": "e96ffd02-bb85-4ee3-ae2a-d3b19f0b785d"
      },
      "execution_count": 123,
      "outputs": [
        {
          "output_type": "stream",
          "name": "stdout",
          "text": [
            "+------------------+------------+-----------+-------+\n",
            "|              Name|      Author|User Rating|  Genre|\n",
            "+------------------+------------+-----------+-------+\n",
            "|The Casual Vacancy|J.K. Rowling|        3.3|Fiction|\n",
            "+------------------+------------+-----------+-------+\n",
            "\n"
          ]
        }
      ]
    },
    {
      "cell_type": "markdown",
      "source": [
        "Визначте, яка книга жанру \"Non Fiction\" має найвищий рейтинг."
      ],
      "metadata": {
        "id": "L29LL4xOphGP"
      }
    },
    {
      "cell_type": "code",
      "source": [
        "\"\"\"\n",
        "SELECT Name, Author, User Rating, Genre FROM df\n",
        "WHERE GENRE = Non Fiction\n",
        "ORDER_BY User Rating DESC\n",
        "LIMIT 1;\n",
        "\"\"\"\n",
        "df.select(\"Name\", \"Author\", \"User Rating\", \"Genre\").where(df.Genre == \"Non Fiction\").orderBy(desc(\"User Rating\")).limit(1).show()"
      ],
      "metadata": {
        "colab": {
          "base_uri": "https://localhost:8080/"
        },
        "id": "q3SqBZzLphXg",
        "outputId": "93e052c9-b269-4591-989d-e84c7840b5a2"
      },
      "execution_count": 124,
      "outputs": [
        {
          "output_type": "stream",
          "name": "stdout",
          "text": [
            "+--------------------+------------------+-----------+-----------+\n",
            "|                Name|            Author|User Rating|      Genre|\n",
            "+--------------------+------------------+-----------+-----------+\n",
            "|Hamilton: The Rev...|Lin-Manuel Miranda|        4.9|Non Fiction|\n",
            "+--------------------+------------------+-----------+-----------+\n",
            "\n"
          ]
        }
      ]
    },
    {
      "cell_type": "markdown",
      "source": [
        "# Завдання 3"
      ],
      "metadata": {
        "id": "d5kf0zWpsdyV"
      }
    },
    {
      "cell_type": "markdown",
      "source": [
        "Побудуйте гістограму середньої кількості рецензій за роками."
      ],
      "metadata": {
        "id": "Gy99bGQysgYG"
      }
    },
    {
      "cell_type": "code",
      "source": [
        "\"\"\"\n",
        "SELECT Year, AVG(Reviews) as Average FROM df\n",
        "GROUP_BY Year\n",
        "ORDER BY YEAR;\n",
        "\"\"\"\n",
        "avg_reviews = df.groupBy(\"Year\").avg(\"Reviews\")\n",
        "avg_reviews.show()\n",
        "avg_reviews = avg_reviews.toPandas()\n",
        "sns.histplot(avg_reviews)"
      ],
      "metadata": {
        "colab": {
          "base_uri": "https://localhost:8080/",
          "height": 725
        },
        "id": "6ys4lCV0sj3s",
        "outputId": "429870da-63ca-47cd-8248-336d9c32149e"
      },
      "execution_count": 204,
      "outputs": [
        {
          "output_type": "stream",
          "name": "stdout",
          "text": [
            "+----+------------+\n",
            "|Year|avg(Reviews)|\n",
            "+----+------------+\n",
            "|2018|    13930.42|\n",
            "|2015|    14233.38|\n",
            "|2013|    13098.14|\n",
            "|2014|    15859.94|\n",
            "|2019|    15898.34|\n",
            "|2012|    13090.92|\n",
            "|2009|     4710.12|\n",
            "|2016|     14196.0|\n",
            "|2010|     5479.62|\n",
            "|2011|     8100.82|\n",
            "|2017|     12888.4|\n",
            "+----+------------+\n",
            "\n"
          ]
        },
        {
          "output_type": "execute_result",
          "data": {
            "text/plain": [
              "<Axes: ylabel='Count'>"
            ]
          },
          "metadata": {},
          "execution_count": 204
        },
        {
          "output_type": "display_data",
          "data": {
            "text/plain": [
              "<Figure size 640x480 with 1 Axes>"
            ],
            "image/png": "[encoded data removed]"
          },
          "metadata": {}
        }
      ]
    },
    {
      "cell_type": "markdown",
      "source": [
        " У вигляді окремої гістограми візуалізуйте кількість книг жанру \"Fiction\" та \"Non Fiction\" за весь доступний період"
      ],
      "metadata": {
        "id": "3W2d8a66v95R"
      }
    },
    {
      "cell_type": "code",
      "source": [
        "\n",
        "\"\"\"\n",
        "SELECT Year, Genre, COUNT(Name) FROM df\n",
        "GROUP BY Year, Genre\n",
        "ORDER BY Year, Genre;\n",
        "\"\"\"\n",
        "df.groupBy([\"Year\", \"Genre\"]).count().orderBy([desc(\"Year\"), \"Genre\"]).show()\n"
      ],
      "metadata": {
        "colab": {
          "base_uri": "https://localhost:8080/"
        },
        "id": "8yuuhcgEv_0c",
        "outputId": "e1e62e66-065b-4c76-8dff-b48a4585d60b"
      },
      "execution_count": 156,
      "outputs": [
        {
          "output_type": "stream",
          "name": "stdout",
          "text": [
            "+----+-----------+-----+\n",
            "|Year|      Genre|count|\n",
            "+----+-----------+-----+\n",
            "|2019|    Fiction|   20|\n",
            "|2019|Non Fiction|   30|\n",
            "|2018|    Fiction|   21|\n",
            "|2018|Non Fiction|   29|\n",
            "|2017|    Fiction|   24|\n",
            "|2017|Non Fiction|   26|\n",
            "|2016|    Fiction|   19|\n",
            "|2016|Non Fiction|   31|\n",
            "|2015|    Fiction|   17|\n",
            "|2015|Non Fiction|   33|\n",
            "|2014|    Fiction|   29|\n",
            "|2014|Non Fiction|   21|\n",
            "|2013|    Fiction|   24|\n",
            "|2013|Non Fiction|   26|\n",
            "|2012|    Fiction|   21|\n",
            "|2012|Non Fiction|   29|\n",
            "|2011|    Fiction|   21|\n",
            "|2011|Non Fiction|   29|\n",
            "|2010|    Fiction|   20|\n",
            "|2010|Non Fiction|   30|\n",
            "+----+-----------+-----+\n",
            "only showing top 20 rows\n",
            "\n"
          ]
        },
        {
          "output_type": "execute_result",
          "data": {
            "text/plain": [
              "Ellipsis"
            ]
          },
          "metadata": {},
          "execution_count": 156
        }
      ]
    },
    {
      "cell_type": "code",
      "source": [
        "genres = df.groupBy(\"Genre\").count()\n",
        "genres.show()\n",
        "genres = genres.toPandas()\n",
        "\n",
        "sns.barplot(genres, x=\"Genre\", y=\"count\")"
      ],
      "metadata": {
        "colab": {
          "base_uri": "https://localhost:8080/",
          "height": 588
        },
        "id": "4IfjbSGe1icI",
        "outputId": "70b6f3ee-8fde-47f6-c128-f8509173809f"
      },
      "execution_count": 230,
      "outputs": [
        {
          "output_type": "stream",
          "name": "stdout",
          "text": [
            "+-----------+-----+\n",
            "|      Genre|count|\n",
            "+-----------+-----+\n",
            "|    Fiction|  240|\n",
            "|Non Fiction|  310|\n",
            "+-----------+-----+\n",
            "\n"
          ]
        },
        {
          "output_type": "execute_result",
          "data": {
            "text/plain": [
              "<Axes: xlabel='Genre', ylabel='count'>"
            ]
          },
          "metadata": {},
          "execution_count": 230
        },
        {
          "output_type": "display_data",
          "data": {
            "text/plain": [
              "<Figure size 640x480 with 1 Axes>"
            ],
            "image/png": "[encoded data removed]"
          },
          "metadata": {}
        }
      ]
    },
    {
      "cell_type": "code",
      "source": [],
      "metadata": {
        "id": "nb1lcL8M1pz7"
      },
      "execution_count": null,
      "outputs": []
    }
  ]
}