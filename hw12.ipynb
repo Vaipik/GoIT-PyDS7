{
  "nbformat": 4,
  "nbformat_minor": 0,
  "metadata": {
    "colab": {
      "provenance": [],
      "gpuType": "T4",
      "authorship_tag": "ABX9TyNQRLqRDqQS+FmEm6TwWGF4",
      "include_colab_link": true
    },
    "kernelspec": {
      "name": "python3",
      "display_name": "Python 3"
    },
    "language_info": {
      "name": "python"
    },
    "accelerator": "GPU",
    "gpuClass": "standard"
  },
  "cells": [
    {
      "cell_type": "markdown",
      "metadata": {
        "id": "view-in-github",
        "colab_type": "text"
      },
      "source": [
        "<a href=\"https://colab.research.google.com/github/Vaipik/GoIT-PyDS7/blob/main/hw12.ipynb\" target=\"_parent\"><img src=\"https://colab.research.google.com/assets/colab-badge.svg\" alt=\"Open In Colab\"/></a>"
      ]
    },
    {
      "cell_type": "code",
      "execution_count": 1,
      "metadata": {
        "id": "pPLKOdHrLIw1"
      },
      "outputs": [],
      "source": [
        "import tensorflow as tf\n",
        "import numpy as np\n"
      ]
    },
    {
      "cell_type": "code",
      "source": [
        "fashion_mnist = tf.keras.datasets.fashion_mnist\n",
        "(train_images, train_labels), (test_images, test_labels) = fashion_mnist.load_data()"
      ],
      "metadata": {
        "id": "KbVAYROzL96F"
      },
      "execution_count": 2,
      "outputs": []
    },
    {
      "cell_type": "code",
      "source": [
        "train_images = np.dstack([train_images] * 3)\n",
        "test_images = np.dstack([test_images] * 3)"
      ],
      "metadata": {
        "id": "-le6qkjmL98O"
      },
      "execution_count": 3,
      "outputs": []
    },
    {
      "cell_type": "code",
      "source": [
        "train_images = train_images.reshape(-1, 28, 28, 3)\n",
        "test_images = test_images.reshape(-1, 28, 28, 3)"
      ],
      "metadata": {
        "id": "rnEw_Koy5Z50"
      },
      "execution_count": 4,
      "outputs": []
    },
    {
      "cell_type": "code",
      "source": [
        "from tensorflow.keras.preprocessing.image import img_to_array, array_to_img\n",
        "train_images = np.asarray(\n",
        "    [img_to_array(array_to_img(img, scale=False).resize((48,48))) for img in train_images])\n",
        "test_images = np.asarray([img_to_array(array_to_img(img, scale=False).resize((48,48))) for img in test_images])\n",
        "\n"
      ],
      "metadata": {
        "id": "_8YOeQa_DemB"
      },
      "execution_count": 5,
      "outputs": []
    },
    {
      "cell_type": "code",
      "source": [
        "train_images = train_images.astype(\"float32\") / 255\n",
        "test_images = test_images.astype(\"float32\") / 255"
      ],
      "metadata": {
        "id": "YYuM0jSs6Dl0"
      },
      "execution_count": 6,
      "outputs": []
    },
    {
      "cell_type": "code",
      "source": [
        "from tensorflow.keras.applications.vgg16 import VGG16"
      ],
      "metadata": {
        "id": "1MHUwUEJL-Cf"
      },
      "execution_count": 7,
      "outputs": []
    },
    {
      "cell_type": "code",
      "source": [
        "vgg16_base = VGG16(weights=\"imagenet\", include_top=False, input_shape=(48, 48, 3))\n",
        "vgg16_base.trainable = True\n",
        "set_trainable = False\n",
        "\n",
        "layer_train_lst = ['block5_conv1', 'block5_conv2', 'block5_conv3']\n",
        "\n",
        "for layer in vgg16_base.layers:\n",
        "    if layer.name in layer_train_lst:\n",
        "        set_trainable = True\n",
        "    elif set_trainable:\n",
        "        layer.trainable = True\n",
        "    else:\n",
        "        layer.trainable = False"
      ],
      "metadata": {
        "id": "n0wAtNtsL-Eu"
      },
      "execution_count": 8,
      "outputs": []
    },
    {
      "cell_type": "code",
      "source": [
        "model = tf.keras.Sequential([\n",
        "    vgg16_base,    \n",
        "    tf.keras.layers.Flatten(),\n",
        "    tf.keras.layers.Dense(512, activation='relu', kernel_regularizer=tf.keras.regularizers.l2(0.001)),\n",
        "    tf.keras.layers.Dropout(0.2),\n",
        "    tf.keras.layers.Dense(128, activation=\"relu\", kernel_regularizer=tf.keras.regularizers.l2(0.001)),\n",
        "    tf.keras.layers.Dropout(0.2),\n",
        "    tf.keras.layers.Dense(32, activation=\"sigmoid\", kernel_regularizer=tf.keras.regularizers.l2(0.001)),\n",
        "    tf.keras.layers.Dense(10, activation=\"softmax\", name='out_layer')\n",
        "])"
      ],
      "metadata": {
        "id": "DVqzczAf5EwH"
      },
      "execution_count": 9,
      "outputs": []
    },
    {
      "cell_type": "code",
      "source": [
        "model.compile(\n",
        "    optimizer=tf.keras.optimizers.Adam(learning_rate=0.001, beta_1=0.9, beta_2=0.999),\n",
        "    loss=tf.keras.losses.SparseCategoricalCrossentropy(),\n",
        "    metrics=['accuracy']\n",
        "    )"
      ],
      "metadata": {
        "id": "zZtON4_v6rwv"
      },
      "execution_count": 10,
      "outputs": []
    },
    {
      "cell_type": "code",
      "source": [
        "model.fit(\n",
        "    train_images,\n",
        "    train_labels,\n",
        "    validation_split=0.1,\n",
        "    batch_size=256,\n",
        "    epochs=30\n",
        "    )"
      ],
      "metadata": {
        "colab": {
          "base_uri": "https://localhost:8080/"
        },
        "id": "YWf2kMbdL-HN",
        "outputId": "d7b27453-1cbd-4cf2-ff7f-bb516439f9f6"
      },
      "execution_count": 11,
      "outputs": [
        {
          "output_type": "stream",
          "name": "stdout",
          "text": [
            "Epoch 1/30\n",
            "211/211 [==============================] - 36s 98ms/step - loss: 1.2057 - accuracy: 0.7470 - val_loss: 0.7448 - val_accuracy: 0.8317\n",
            "Epoch 2/30\n",
            "211/211 [==============================] - 18s 86ms/step - loss: 0.6345 - accuracy: 0.8490 - val_loss: 0.5634 - val_accuracy: 0.8558\n",
            "Epoch 3/30\n",
            "211/211 [==============================] - 18s 86ms/step - loss: 0.4958 - accuracy: 0.8668 - val_loss: 0.5165 - val_accuracy: 0.8533\n",
            "Epoch 4/30\n",
            "211/211 [==============================] - 18s 85ms/step - loss: 0.4155 - accuracy: 0.8806 - val_loss: 0.4301 - val_accuracy: 0.8703\n",
            "Epoch 5/30\n",
            "211/211 [==============================] - 18s 85ms/step - loss: 0.3637 - accuracy: 0.8910 - val_loss: 0.3883 - val_accuracy: 0.8837\n",
            "Epoch 6/30\n",
            "211/211 [==============================] - 17s 79ms/step - loss: 0.3323 - accuracy: 0.8983 - val_loss: 0.3660 - val_accuracy: 0.8797\n",
            "Epoch 7/30\n",
            "211/211 [==============================] - 18s 85ms/step - loss: 0.3085 - accuracy: 0.9043 - val_loss: 0.3663 - val_accuracy: 0.8803\n",
            "Epoch 8/30\n",
            "211/211 [==============================] - 18s 85ms/step - loss: 0.2921 - accuracy: 0.9077 - val_loss: 0.3373 - val_accuracy: 0.8917\n",
            "Epoch 9/30\n",
            "211/211 [==============================] - 17s 79ms/step - loss: 0.2681 - accuracy: 0.9157 - val_loss: 0.3309 - val_accuracy: 0.8973\n",
            "Epoch 10/30\n",
            "211/211 [==============================] - 18s 85ms/step - loss: 0.2577 - accuracy: 0.9183 - val_loss: 0.3373 - val_accuracy: 0.8958\n",
            "Epoch 11/30\n",
            "211/211 [==============================] - 17s 79ms/step - loss: 0.2428 - accuracy: 0.9239 - val_loss: 0.3387 - val_accuracy: 0.8978\n",
            "Epoch 12/30\n",
            "211/211 [==============================] - 17s 79ms/step - loss: 0.2363 - accuracy: 0.9247 - val_loss: 0.3312 - val_accuracy: 0.8977\n",
            "Epoch 13/30\n",
            "211/211 [==============================] - 18s 85ms/step - loss: 0.2255 - accuracy: 0.9286 - val_loss: 0.3392 - val_accuracy: 0.8918\n",
            "Epoch 14/30\n",
            "211/211 [==============================] - 17s 79ms/step - loss: 0.2097 - accuracy: 0.9336 - val_loss: 0.3385 - val_accuracy: 0.8918\n",
            "Epoch 15/30\n",
            "211/211 [==============================] - 17s 79ms/step - loss: 0.2010 - accuracy: 0.9381 - val_loss: 0.3243 - val_accuracy: 0.8970\n",
            "Epoch 16/30\n",
            "211/211 [==============================] - 18s 85ms/step - loss: 0.1942 - accuracy: 0.9382 - val_loss: 0.3696 - val_accuracy: 0.8860\n",
            "Epoch 17/30\n",
            "211/211 [==============================] - 18s 85ms/step - loss: 0.1857 - accuracy: 0.9422 - val_loss: 0.3406 - val_accuracy: 0.8952\n",
            "Epoch 18/30\n",
            "211/211 [==============================] - 18s 85ms/step - loss: 0.1760 - accuracy: 0.9454 - val_loss: 0.3466 - val_accuracy: 0.8952\n",
            "Epoch 19/30\n",
            "211/211 [==============================] - 18s 85ms/step - loss: 0.1667 - accuracy: 0.9484 - val_loss: 0.3642 - val_accuracy: 0.8947\n",
            "Epoch 20/30\n",
            "211/211 [==============================] - 17s 79ms/step - loss: 0.1604 - accuracy: 0.9502 - val_loss: 0.3706 - val_accuracy: 0.8935\n",
            "Epoch 21/30\n",
            "211/211 [==============================] - 17s 79ms/step - loss: 0.1552 - accuracy: 0.9528 - val_loss: 0.3543 - val_accuracy: 0.8987\n",
            "Epoch 22/30\n",
            "211/211 [==============================] - 17s 79ms/step - loss: 0.1450 - accuracy: 0.9565 - val_loss: 0.3817 - val_accuracy: 0.8903\n",
            "Epoch 23/30\n",
            "211/211 [==============================] - 18s 85ms/step - loss: 0.1376 - accuracy: 0.9583 - val_loss: 0.3787 - val_accuracy: 0.8952\n",
            "Epoch 24/30\n",
            "211/211 [==============================] - 17s 79ms/step - loss: 0.1302 - accuracy: 0.9620 - val_loss: 0.3890 - val_accuracy: 0.8972\n",
            "Epoch 25/30\n",
            "211/211 [==============================] - 18s 85ms/step - loss: 0.1254 - accuracy: 0.9636 - val_loss: 0.3725 - val_accuracy: 0.8983\n",
            "Epoch 26/30\n",
            "211/211 [==============================] - 18s 85ms/step - loss: 0.1256 - accuracy: 0.9639 - val_loss: 0.4070 - val_accuracy: 0.8907\n",
            "Epoch 27/30\n",
            "211/211 [==============================] - 17s 79ms/step - loss: 0.1183 - accuracy: 0.9669 - val_loss: 0.4173 - val_accuracy: 0.8902\n",
            "Epoch 28/30\n",
            "211/211 [==============================] - 17s 79ms/step - loss: 0.1088 - accuracy: 0.9690 - val_loss: 0.4035 - val_accuracy: 0.8933\n",
            "Epoch 29/30\n",
            "211/211 [==============================] - 18s 85ms/step - loss: 0.1038 - accuracy: 0.9712 - val_loss: 0.3949 - val_accuracy: 0.9000\n",
            "Epoch 30/30\n",
            "211/211 [==============================] - 18s 85ms/step - loss: 0.1005 - accuracy: 0.9721 - val_loss: 0.4202 - val_accuracy: 0.8907\n"
          ]
        },
        {
          "output_type": "execute_result",
          "data": {
            "text/plain": [
              "<keras.callbacks.History at 0x7feb51d9ffd0>"
            ]
          },
          "metadata": {},
          "execution_count": 11
        }
      ]
    },
    {
      "cell_type": "code",
      "source": [
        "test_loss, test_acc = model.evaluate(test_images,  test_labels, verbose=2)\n",
        "print('Test accuracy:', test_acc)"
      ],
      "metadata": {
        "colab": {
          "base_uri": "https://localhost:8080/"
        },
        "id": "r1aRBBVOL-Im",
        "outputId": "d909df53-0cc8-4a2e-a245-21dfc9269044"
      },
      "execution_count": 12,
      "outputs": [
        {
          "output_type": "stream",
          "name": "stdout",
          "text": [
            "313/313 - 4s - loss: 0.4385 - accuracy: 0.8912 - 4s/epoch - 14ms/step\n",
            "Test accuracy: 0.8912000060081482\n"
          ]
        }
      ]
    }
  ]
}